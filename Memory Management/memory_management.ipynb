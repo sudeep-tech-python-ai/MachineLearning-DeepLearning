{
 "cells": [
  {
   "cell_type": "markdown",
   "metadata": {},
   "source": [
    "## Python Memory Management \n",
    "Memory management in Python involves a combination of automatic garbage collection, reference counting, and various internal optimization to efficiently manage memory allocation and deallocation. Understanding these mechanisms can help developers write more efficient and robust applications.\n",
    "\n",
    "1. Key Concepts in Python Memory Management \n",
    "2. Memory Allocation and Deallocation \n",
    "3. Reference Counting \n",
    "4. Garbage Collection \n",
    "5. The gc Module \n",
    "6. Memory Management Best Practices"
   ]
  },
  {
   "cell_type": "markdown",
   "metadata": {},
   "source": [
    "### Reference Counting \n",
    "\n",
    "Reference counting is the primary method Python uses to manage memory. Each object in Python maintains a count of references pointing to it. When the reference count drops to zero, the memory occupied by the object is deallocated."
   ]
  },
  {
   "cell_type": "code",
   "execution_count": 1,
   "metadata": {},
   "outputs": [
    {
     "name": "stdout",
     "output_type": "stream",
     "text": [
      "2\n"
     ]
    }
   ],
   "source": [
    "import sys \n",
    "\n",
    "a=[]\n",
    "\n",
    "## 2(one reference from 'a' and one from getrefcount())\n",
    "print(sys.getrefcount(a))"
   ]
  },
  {
   "cell_type": "code",
   "execution_count": 3,
   "metadata": {},
   "outputs": [
    {
     "name": "stdout",
     "output_type": "stream",
     "text": [
      "3\n"
     ]
    }
   ],
   "source": [
    "b=a\n",
    "print(sys.getrefcount(b))"
   ]
  },
  {
   "cell_type": "code",
   "execution_count": 4,
   "metadata": {},
   "outputs": [
    {
     "name": "stdout",
     "output_type": "stream",
     "text": [
      "2\n"
     ]
    }
   ],
   "source": [
    "del b \n",
    "print(sys.getrefcount(a))"
   ]
  },
  {
   "cell_type": "markdown",
   "metadata": {},
   "source": [
    "### Garbage Collection\n",
    "Python includes a cyclic garbage collector to handle reference cycles. Reference cycles occur when objects reference each other, preventing their counts from reaching zero."
   ]
  },
  {
   "cell_type": "code",
   "execution_count": 5,
   "metadata": {},
   "outputs": [],
   "source": [
    "import gc \n",
    "## enable garbage collection \n",
    "gc.enable()"
   ]
  },
  {
   "cell_type": "code",
   "execution_count": 6,
   "metadata": {},
   "outputs": [],
   "source": [
    "gc.disable()"
   ]
  },
  {
   "cell_type": "code",
   "execution_count": 7,
   "metadata": {},
   "outputs": [
    {
     "data": {
      "text/plain": [
       "98"
      ]
     },
     "execution_count": 7,
     "metadata": {},
     "output_type": "execute_result"
    }
   ],
   "source": [
    "gc.collect()"
   ]
  },
  {
   "cell_type": "code",
   "execution_count": 8,
   "metadata": {},
   "outputs": [
    {
     "name": "stdout",
     "output_type": "stream",
     "text": [
      "[{'collections': 172, 'collected': 1190, 'uncollectable': 0}, {'collections': 15, 'collected': 527, 'uncollectable': 0}, {'collections': 2, 'collected': 98, 'uncollectable': 0}]\n"
     ]
    }
   ],
   "source": [
    "### Get garbage collection stats \n",
    "print(gc.get_stats())"
   ]
  },
  {
   "cell_type": "code",
   "execution_count": 10,
   "metadata": {},
   "outputs": [
    {
     "name": "stdout",
     "output_type": "stream",
     "text": [
      "[]\n"
     ]
    }
   ],
   "source": [
    "### get unreachable objects \n",
    "print(gc.garbage)"
   ]
  },
  {
   "cell_type": "markdown",
   "metadata": {},
   "source": [
    "#### Memory Management Best Practices \n",
    "1. Use Local Variable: Local variables have a shorter lifespan and are freed sooner than global variables.\n",
    "2. Avoid Circular References: Circular references can lead to memory leaks if not properly managed.\n",
    "3. Use Generators: Generators produce items one at a time and only keep one item in memory at a time, making them memory efficient.\n",
    "4. Explicitly Delete Objects: Use the del statement to delete variables and objects explicitly.\n",
    "5. Profile Memory Usage: Use memory profiling tools like tracemalloc and memory_profiler to identify memory leaks and optimize memory usage."
   ]
  },
  {
   "cell_type": "code",
   "execution_count": 20,
   "metadata": {},
   "outputs": [
    {
     "name": "stdout",
     "output_type": "stream",
     "text": [
      "Object obj1 created\n",
      "Object obj2 created\n"
     ]
    }
   ],
   "source": [
    "\n",
    "## handling circular references \n",
    "import gc \n",
    "class MyObject:\n",
    "    def __init__(self,name):\n",
    "        self.name=name\n",
    "        print(f\"Object {self.name} created\")\n",
    "\n",
    "    def __del__(self):\n",
    "        print(f\"Object {self.name} deleted\")\n",
    "\n",
    "## create circular reference \n",
    "obj1=MyObject(\"obj1\")\n",
    "obj2=MyObject(\"obj2\")\n",
    "obj1.ref=obj2\n",
    "obj2.ref=obj1\n",
    "\n",
    "del obj1\n",
    "del obj2\n",
    "\n"
   ]
  },
  {
   "cell_type": "code",
   "execution_count": 21,
   "metadata": {},
   "outputs": [
    {
     "name": "stdout",
     "output_type": "stream",
     "text": [
      "Object obj1 deleted\n",
      "Object obj2 deleted\n"
     ]
    },
    {
     "data": {
      "text/plain": [
       "9"
      ]
     },
     "execution_count": 21,
     "metadata": {},
     "output_type": "execute_result"
    }
   ],
   "source": [
    "## Manually trigger the garbage collection \n",
    "gc.collect()"
   ]
  },
  {
   "cell_type": "code",
   "execution_count": 22,
   "metadata": {},
   "outputs": [
    {
     "name": "stdout",
     "output_type": "stream",
     "text": [
      "0\n",
      "1\n",
      "2\n",
      "3\n",
      "4\n",
      "5\n",
      "6\n",
      "7\n",
      "8\n",
      "9\n",
      "10\n",
      "11\n"
     ]
    }
   ],
   "source": [
    "## Generators For Memory Efficiency\n",
    "# Generators allow you to produce items one at a time, using memory efficiently by only keeping on item in memory at a time.\n",
    "\n",
    "def generate_numbers(n):\n",
    "    for i in range(n):\n",
    "        yield i\n",
    "\n",
    "## using the generator \n",
    "for num in generate_numbers(100000):\n",
    "    print(num)\n",
    "    if num>10:\n",
    "        break"
   ]
  },
  {
   "cell_type": "code",
   "execution_count": 23,
   "metadata": {},
   "outputs": [],
   "source": [
    "## Profiling Memory Usage with tracemalloc \n",
    "import tracemalloc\n",
    "\n",
    "def create_list():\n",
    "    return [i for i in range(10000)]\n",
    "\n",
    "def main():\n",
    "    tracemalloc.start()\n",
    "\n",
    "    create_list()\n",
    "\n",
    "    snapshot=tracemalloc.take_snapshot()\n",
    "    top_stats=snapshot.statistics('lineno')\n",
    "\n",
    "    print(\"[ Top 10 ]\")\n",
    "    for stat in top_stats[:10]:\n",
    "        print(stat)"
   ]
  },
  {
   "cell_type": "code",
   "execution_count": 24,
   "metadata": {},
   "outputs": [
    {
     "name": "stdout",
     "output_type": "stream",
     "text": [
      "[ Top 10 ]\n",
      "/Users/shindesudeep/Desktop/MachineLearning-DeepLearning/ml_dl_env/lib/python3.12/site-packages/IPython/core/history.py:1011: size=280 B, count=4, average=70 B\n",
      "/opt/anaconda3/lib/python3.12/contextlib.py:105: size=192 B, count=1, average=192 B\n",
      "/Users/shindesudeep/Desktop/MachineLearning-DeepLearning/ml_dl_env/lib/python3.12/site-packages/tornado/queues.py:248: size=144 B, count=1, average=144 B\n",
      "/opt/anaconda3/lib/python3.12/contextlib.py:301: size=104 B, count=2, average=52 B\n",
      "/opt/anaconda3/lib/python3.12/asyncio/base_events.py:813: size=104 B, count=1, average=104 B\n",
      "/opt/anaconda3/lib/python3.12/selectors.py:566: size=96 B, count=1, average=96 B\n",
      "/opt/anaconda3/lib/python3.12/asyncio/events.py:88: size=72 B, count=1, average=72 B\n",
      "/Users/shindesudeep/Desktop/MachineLearning-DeepLearning/ml_dl_env/lib/python3.12/site-packages/IPython/core/history.py:1030: size=72 B, count=1, average=72 B\n",
      "/Users/shindesudeep/Desktop/MachineLearning-DeepLearning/ml_dl_env/lib/python3.12/site-packages/IPython/core/history.py:1013: size=72 B, count=1, average=72 B\n",
      "/Users/shindesudeep/Desktop/MachineLearning-DeepLearning/ml_dl_env/lib/python3.12/site-packages/IPython/core/history.py:1009: size=72 B, count=1, average=72 B\n"
     ]
    }
   ],
   "source": [
    "main()"
   ]
  },
  {
   "cell_type": "code",
   "execution_count": null,
   "metadata": {},
   "outputs": [],
   "source": []
  }
 ],
 "metadata": {
  "kernelspec": {
   "display_name": "ml_dl_env",
   "language": "python",
   "name": "python3"
  },
  "language_info": {
   "codemirror_mode": {
    "name": "ipython",
    "version": 3
   },
   "file_extension": ".py",
   "mimetype": "text/x-python",
   "name": "python",
   "nbconvert_exporter": "python",
   "pygments_lexer": "ipython3",
   "version": "3.12.2"
  }
 },
 "nbformat": 4,
 "nbformat_minor": 2
}
